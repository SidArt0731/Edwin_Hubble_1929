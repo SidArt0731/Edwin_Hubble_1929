{
 "cells": [
  {
   "cell_type": "markdown",
   "id": "4aba6b7b-9639-4f09-91f3-1655b4f7c586",
   "metadata": {
    "tags": []
   },
   "source": [
    "# Astronomer Edwin Hubble, in 1929, published a very important paper where he discovered that there is an approximately linear relationship between the distance and velocity of extragalactic nebulae. This was the foundation that would come to be the big bang theory."
   ]
  },
  {
   "cell_type": "markdown",
   "id": "bb677018-2afa-4bc8-acf9-28496f77ee1a",
   "metadata": {},
   "source": [
    "## A reprint of the article is available at http://apod.nasa.gov/diamond_jubilee/d_1996/hub_1929.html , where the data was obtained from."
   ]
  },
  {
   "cell_type": "markdown",
   "id": "db50b520-7959-4fa2-b779-d64e7a289af4",
   "metadata": {},
   "source": [
    "### The dataset is very small and simply printed in the article itself! Some minor formatting and cleanup was done to the data to make it easier to use. In particular, the velocity values were manually changed to be all positive as only the magnitude of the velocity matters."
   ]
  },
  {
   "cell_type": "code",
   "execution_count": null,
   "id": "59ba4fe6-755a-4bda-85d9-1bf350c93c68",
   "metadata": {},
   "outputs": [],
   "source": []
  },
  {
   "cell_type": "code",
   "execution_count": null,
   "id": "9e633360-06ed-44ed-ba63-422b74705ef3",
   "metadata": {},
   "outputs": [],
   "source": []
  },
  {
   "cell_type": "markdown",
   "id": "058c6ee4-88d4-48fc-9cf6-04596480553e",
   "metadata": {},
   "source": [
    "### Importing libraries"
   ]
  },
  {
   "cell_type": "code",
   "execution_count": 2,
   "id": "0034eeb8-492d-40dc-b8bb-69f20765a33b",
   "metadata": {},
   "outputs": [],
   "source": [
    "%matplotlib inline\n",
    "import matplotlib.pyplot as plt\n",
    "import numpy as np\n",
    "import pandas as pd\n",
    "import os"
   ]
  },
  {
   "cell_type": "markdown",
   "id": "68b4ad07-9313-4ca5-9847-5595c5854295",
   "metadata": {},
   "source": [
    "### Loading data"
   ]
  },
  {
   "cell_type": "code",
   "execution_count": 3,
   "id": "b6ba82eb-f04c-499b-812b-2d6bb5fcc030",
   "metadata": {},
   "outputs": [
    {
     "data": {
      "text/html": [
       "<div>\n",
       "<style scoped>\n",
       "    .dataframe tbody tr th:only-of-type {\n",
       "        vertical-align: middle;\n",
       "    }\n",
       "\n",
       "    .dataframe tbody tr th {\n",
       "        vertical-align: top;\n",
       "    }\n",
       "\n",
       "    .dataframe thead th {\n",
       "        text-align: right;\n",
       "    }\n",
       "</style>\n",
       "<table border=\"1\" class=\"dataframe\">\n",
       "  <thead>\n",
       "    <tr style=\"text-align: right;\">\n",
       "      <th></th>\n",
       "      <th>id</th>\n",
       "      <th>r</th>\n",
       "      <th>v</th>\n",
       "    </tr>\n",
       "  </thead>\n",
       "  <tbody>\n",
       "    <tr>\n",
       "      <th>0</th>\n",
       "      <td>SMC</td>\n",
       "      <td>0.032</td>\n",
       "      <td>170</td>\n",
       "    </tr>\n",
       "    <tr>\n",
       "      <th>1</th>\n",
       "      <td>5194</td>\n",
       "      <td>0.500</td>\n",
       "      <td>270</td>\n",
       "    </tr>\n",
       "    <tr>\n",
       "      <th>2</th>\n",
       "      <td>1055</td>\n",
       "      <td>1.100</td>\n",
       "      <td>450</td>\n",
       "    </tr>\n",
       "    <tr>\n",
       "      <th>3</th>\n",
       "      <td>LMC</td>\n",
       "      <td>0.034</td>\n",
       "      <td>290</td>\n",
       "    </tr>\n",
       "    <tr>\n",
       "      <th>4</th>\n",
       "      <td>4449</td>\n",
       "      <td>0.630</td>\n",
       "      <td>200</td>\n",
       "    </tr>\n",
       "  </tbody>\n",
       "</table>\n",
       "</div>"
      ],
      "text/plain": [
       "     id      r    v\n",
       "0   SMC  0.032  170\n",
       "1  5194  0.500  270\n",
       "2  1055  1.100  450\n",
       "3   LMC  0.034  290\n",
       "4  4449  0.630  200"
      ]
     },
     "execution_count": 3,
     "metadata": {},
     "output_type": "execute_result"
    }
   ],
   "source": [
    "hubble_data = pd.read_csv('data/hubble.csv', skiprows=2, names=['id', 'r', 'v'])\n",
    "hubble_data.head()"
   ]
  },
  {
   "cell_type": "code",
   "execution_count": 4,
   "id": "86efd50b-a51c-4d5b-9dea-6bad31582a3d",
   "metadata": {},
   "outputs": [
    {
     "data": {
      "text/plain": [
       "(24, 3)"
      ]
     },
     "execution_count": 4,
     "metadata": {},
     "output_type": "execute_result"
    }
   ],
   "source": [
    "hubble_data.shape"
   ]
  },
  {
   "cell_type": "code",
   "execution_count": 5,
   "id": "4334a7a9-5bf3-4f0c-b30e-713e86d64948",
   "metadata": {},
   "outputs": [
    {
     "name": "stdout",
     "output_type": "stream",
     "text": [
      "<class 'pandas.core.frame.DataFrame'>\n",
      "RangeIndex: 24 entries, 0 to 23\n",
      "Data columns (total 3 columns):\n",
      " #   Column  Non-Null Count  Dtype  \n",
      "---  ------  --------------  -----  \n",
      " 0   id      24 non-null     object \n",
      " 1   r       24 non-null     float64\n",
      " 2   v       24 non-null     int64  \n",
      "dtypes: float64(1), int64(1), object(1)\n",
      "memory usage: 704.0+ bytes\n"
     ]
    }
   ],
   "source": [
    "hubble_data.info()"
   ]
  },
  {
   "cell_type": "code",
   "execution_count": 6,
   "id": "30e054e2-73e7-4ebf-9d61-28d607200490",
   "metadata": {},
   "outputs": [
    {
     "data": {
      "text/html": [
       "<div>\n",
       "<style scoped>\n",
       "    .dataframe tbody tr th:only-of-type {\n",
       "        vertical-align: middle;\n",
       "    }\n",
       "\n",
       "    .dataframe tbody tr th {\n",
       "        vertical-align: top;\n",
       "    }\n",
       "\n",
       "    .dataframe thead th {\n",
       "        text-align: right;\n",
       "    }\n",
       "</style>\n",
       "<table border=\"1\" class=\"dataframe\">\n",
       "  <thead>\n",
       "    <tr style=\"text-align: right;\">\n",
       "      <th></th>\n",
       "      <th>r</th>\n",
       "      <th>v</th>\n",
       "    </tr>\n",
       "  </thead>\n",
       "  <tbody>\n",
       "    <tr>\n",
       "      <th>count</th>\n",
       "      <td>24.000000</td>\n",
       "      <td>24.000000</td>\n",
       "    </tr>\n",
       "    <tr>\n",
       "      <th>mean</th>\n",
       "      <td>0.911375</td>\n",
       "      <td>373.125000</td>\n",
       "    </tr>\n",
       "    <tr>\n",
       "      <th>std</th>\n",
       "      <td>0.645496</td>\n",
       "      <td>371.254666</td>\n",
       "    </tr>\n",
       "    <tr>\n",
       "      <th>min</th>\n",
       "      <td>0.032000</td>\n",
       "      <td>-220.000000</td>\n",
       "    </tr>\n",
       "    <tr>\n",
       "      <th>25%</th>\n",
       "      <td>0.406250</td>\n",
       "      <td>165.000000</td>\n",
       "    </tr>\n",
       "    <tr>\n",
       "      <th>50%</th>\n",
       "      <td>0.900000</td>\n",
       "      <td>295.000000</td>\n",
       "    </tr>\n",
       "    <tr>\n",
       "      <th>75%</th>\n",
       "      <td>1.175000</td>\n",
       "      <td>537.500000</td>\n",
       "    </tr>\n",
       "    <tr>\n",
       "      <th>max</th>\n",
       "      <td>2.000000</td>\n",
       "      <td>1090.000000</td>\n",
       "    </tr>\n",
       "  </tbody>\n",
       "</table>\n",
       "</div>"
      ],
      "text/plain": [
       "               r            v\n",
       "count  24.000000    24.000000\n",
       "mean    0.911375   373.125000\n",
       "std     0.645496   371.254666\n",
       "min     0.032000  -220.000000\n",
       "25%     0.406250   165.000000\n",
       "50%     0.900000   295.000000\n",
       "75%     1.175000   537.500000\n",
       "max     2.000000  1090.000000"
      ]
     },
     "execution_count": 6,
     "metadata": {},
     "output_type": "execute_result"
    }
   ],
   "source": [
    "hubble_data.describe()"
   ]
  },
  {
   "cell_type": "markdown",
   "id": "785f5109-4f5a-46d1-93c0-d657f0700676",
   "metadata": {},
   "source": [
    "### Using Scatter Plot to determine whether the two variables have a relationship or correlation"
   ]
  },
  {
   "cell_type": "code",
   "execution_count": 7,
   "id": "94723c84-7280-4e62-a9a9-5953a5473e01",
   "metadata": {},
   "outputs": [
    {
     "data": {
      "image/png": "[encoded data removed]",
      "text/plain": [
       "<Figure size 432x288 with 1 Axes>"
      ]
     },
     "metadata": {
      "needs_background": "light"
     },
     "output_type": "display_data"
    }
   ],
   "source": [
    "hubble_data.plot(kind='scatter', x='r',y='v', s=50)\n",
    "plt.locator_params(nbins=5)"
   ]
  },
  {
   "cell_type": "markdown",
   "id": "55549551-8437-4d42-8e97-2a4fb078253d",
   "metadata": {},
   "source": [
    "### Observing the plot, it is clearly seen that there is a relationship between distance and velocity, contradicting the view, prevalent at the time, that the Universe is stationary. To make the relationship clearer, we can add a trend line to the plot."
   ]
  },
  {
   "cell_type": "markdown",
   "id": "c899736f-b8ab-43df-a8d2-8a9b88b152dc",
   "metadata": {},
   "source": [
    "### computing the linear regression line for the relationship:"
   ]
  },
  {
   "cell_type": "code",
   "execution_count": 17,
   "id": "c1723387-feae-49a8-a261-692c43952027",
   "metadata": {},
   "outputs": [],
   "source": [
    "from scipy.stats import linregress\n",
    "rv = hubble_data[['r','v']]\n"
   ]
  },
  {
   "cell_type": "code",
   "execution_count": 18,
   "id": "833c5009-b7bf-4f8a-bb20-d4a774a76eda",
   "metadata": {},
   "outputs": [],
   "source": [
    "rv = rv.to_numpy()"
   ]
  },
  {
   "cell_type": "code",
   "execution_count": 19,
   "id": "15b4a303-8c72-4fac-bf6e-40a1179c75fc",
   "metadata": {},
   "outputs": [
    {
     "name": "stdout",
     "output_type": "stream",
     "text": [
      "454.15844092262836 -40.78364909586037 0.7896394879353182 4.477491000609172e-06 75.23710534716909\n"
     ]
    }
   ],
   "source": [
    "a, b, r, p, stderr = linregress(rv)\n",
    "print(a, b, r, p, stderr)"
   ]
  },
  {
   "cell_type": "markdown",
   "id": "5bd4ea69-4f5d-4291-9c56-50af6b3752fc",
   "metadata": {},
   "source": [
    "### rounding to two decimals, a=454.16, b=-40.78, r=0.79, p=4.48E-6, and stderr=75.24"
   ]
  },
  {
   "cell_type": "markdown",
   "id": "ed337235-884c-48f3-b39b-8ff745bc335e",
   "metadata": {},
   "source": [
    "### The correlation coefficient of 0.79 indicates a strong relationship, and the very small p-value indicates that the null hypothesis should be rejected, giving support to the existence of a relationship between the variables. The square of r is 0.62, so 62% of the variability in the data is explained by the linear model as opposed to random variation."
   ]
  },
  {
   "cell_type": "code",
   "execution_count": null,
   "id": "3f56aa5f-5484-480b-be5e-c971f46f9dab",
   "metadata": {},
   "outputs": [],
   "source": []
  },
  {
   "cell_type": "markdown",
   "id": "3760a8f1-824e-4102-8604-e666e5e7ea4b",
   "metadata": {},
   "source": [
    "### All this indicates that a linear model can describe the increase in velocity as a function of distance for galaxies in the Universe. To display this visually, we can plot the regression line together with the data"
   ]
  },
  {
   "cell_type": "code",
   "execution_count": 20,
   "id": "94fedf41-f5e7-475c-837f-352dcbc23fce",
   "metadata": {},
   "outputs": [
    {
     "data": {
      "image/png": "[encoded data removed]",
      "text/plain": [
       "<Figure size 432x288 with 1 Axes>"
      ]
     },
     "metadata": {
      "needs_background": "light"
     },
     "output_type": "display_data"
    }
   ],
   "source": [
    "hubble_data.plot(kind='scatter', x='r', y='v', s=50)\n",
    "rdata = hubble_data['r']\n",
    "rmin, rmax = min(rdata), max(rdata)\n",
    "rvalues = np.linspace(rmin, rmax, 200)\n",
    "yvalues = a * rvalues + b\n",
    "plt.plot(rvalues, yvalues, color='IndianRed', lw=2)\n",
    "plt.locator_params(nbins=5)"
   ]
  },
  {
   "cell_type": "code",
   "execution_count": null,
   "id": "244fe9d0-e001-42fb-ac75-4068873844b4",
   "metadata": {},
   "outputs": [],
   "source": []
  },
  {
   "cell_type": "markdown",
   "id": "98aeaeaf-56a5-4b4b-b74e-47f2d6fef0ad",
   "metadata": {},
   "source": [
    "# Conclusion: From this model, Hubble went on to hypothesize that the Universe is expanding, an idea that eventually yielded the model for the Universe currently accepted in cosmology."
   ]
  },
  {
   "cell_type": "code",
   "execution_count": null,
   "id": "b7d53580-d645-4e62-825b-d527380e6e07",
   "metadata": {},
   "outputs": [],
   "source": []
  }
 ],
 "metadata": {
  "kernelspec": {
   "display_name": "Python 3 (ipykernel)",
   "language": "python",
   "name": "python3"
  },
  "language_info": {
   "codemirror_mode": {
    "name": "ipython",
    "version": 3
   },
   "file_extension": ".py",
   "mimetype": "text/x-python",
   "name": "python",
   "nbconvert_exporter": "python",
   "pygments_lexer": "ipython3",
   "version": "3.9.7"
  }
 },
 "nbformat": 4,
 "nbformat_minor": 5
}
